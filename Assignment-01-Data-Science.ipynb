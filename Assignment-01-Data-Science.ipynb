{
 "cells": [
  {
   "cell_type": "markdown",
   "id": "3ddd14f2",
   "metadata": {},
   "source": [
    "### Q.1- Write a Python program to print the following string in a specific format (see the output).\n",
    "### Twinkle, twinkle, little star,\n",
    "### How I wonder what you are!\n",
    "### Up above the world so high,\n",
    "### Like a diamond in the sky.\n",
    "### Twinkle, twinkle, little star,\n",
    "### How I wonder what you are"
   ]
  },
  {
   "cell_type": "code",
   "execution_count": 1,
   "id": "5eb8251c",
   "metadata": {},
   "outputs": [
    {
     "name": "stdout",
     "output_type": "stream",
     "text": [
      "\n",
      "        Twinkle, twinkle, little star,\n",
      "                 How I wonder what you are!\n",
      "                        Up above the world so high,\n",
      "                        Like a diamond in the sky.\n",
      "        Twinkle, twinkle, little star,\n",
      "                 How I wonder what you are\n"
     ]
    }
   ],
   "source": [
    "def print_the_poem():\n",
    "    print('''\n",
    "        Twinkle, twinkle, little star,\n",
    "                 How I wonder what you are!\n",
    "                        Up above the world so high,\n",
    "                        Like a diamond in the sky.\n",
    "        Twinkle, twinkle, little star,\n",
    "                 How I wonder what you are''')\n",
    "\n",
    "print_the_poem()"
   ]
  },
  {
   "cell_type": "markdown",
   "id": "de10b8c7",
   "metadata": {},
   "source": [
    "### Q.2- Write a Python program to get the Python version you are using."
   ]
  },
  {
   "cell_type": "code",
   "execution_count": 2,
   "id": "21bc4731",
   "metadata": {},
   "outputs": [
    {
     "name": "stdout",
     "output_type": "stream",
     "text": [
      "\n",
      "Python Version => 3.8.8 \n",
      "\n"
     ]
    }
   ],
   "source": [
    "import platform\n",
    "print('\\nPython Version =>',platform.python_version(), '\\n')"
   ]
  },
  {
   "cell_type": "code",
   "execution_count": 3,
   "id": "c764cef7",
   "metadata": {},
   "outputs": [
    {
     "name": "stdout",
     "output_type": "stream",
     "text": [
      "\n",
      "Python Version => 3.8.8 (default, Apr 13 2021, 15:08:03) [MSC v.1916 64 bit (AMD64)]\n",
      "\n",
      "Python Version Info => sys.version_info(major=3, minor=8, micro=8, releaselevel='final', serial=0) \n",
      "\n"
     ]
    }
   ],
   "source": [
    "import sys\n",
    "print('\\nPython Version =>',sys.version)\n",
    "print('\\nPython Version Info =>', sys.version_info, '\\n')"
   ]
  },
  {
   "cell_type": "markdown",
   "id": "fa1a7472",
   "metadata": {},
   "source": [
    "### Q.3- Write a Python program to display the current date and time."
   ]
  },
  {
   "cell_type": "code",
   "execution_count": 4,
   "id": "4f8cac8e",
   "metadata": {},
   "outputs": [
    {
     "name": "stdout",
     "output_type": "stream",
     "text": [
      "Current Date => 31-12-2021 \n",
      "\n",
      "Current Date => 12/31/2021 \n",
      "\n",
      "Current Date => December 31, 2021 \n",
      "\n",
      "Current Date => Dec 31, 2021 \n",
      "\n",
      "Current Time => 00:04:31\n"
     ]
    }
   ],
   "source": [
    "import datetime\n",
    "current_date_and_time = datetime.datetime.now()\n",
    "\n",
    "print('Current Date =>', current_date_and_time.strftime('%d-%m-%Y'), '\\n')\n",
    "print('Current Date =>', current_date_and_time.strftime('%m/%d/%Y'), '\\n')\n",
    "\n",
    "print('Current Date =>', current_date_and_time.strftime('%B %d, %Y'), '\\n')\n",
    "print('Current Date =>', current_date_and_time.strftime('%b %d, %Y'), '\\n')\n",
    "\n",
    "print('Current Time =>', current_date_and_time.strftime('%H:%M:%S'))"
   ]
  },
  {
   "cell_type": "markdown",
   "id": "09c8acbb",
   "metadata": {},
   "source": [
    "### Q.4- Write a Python program which accepts the radius of a circle from the user and compute the area."
   ]
  },
  {
   "cell_type": "code",
   "execution_count": 5,
   "id": "405538f0",
   "metadata": {},
   "outputs": [
    {
     "name": "stdout",
     "output_type": "stream",
     "text": [
      "\n",
      "Enter the radius of the circle to calculate the area of the circle: 2.2\n",
      "\n",
      "The Area of the Circle is => 15.205308443374602 \n",
      "\n",
      "The Area of the Circle is => 15.21 \n",
      "\n"
     ]
    }
   ],
   "source": [
    "import math\n",
    "def circle_area(radius):\n",
    "    return math.pi * radius**2\n",
    "\n",
    "r = float(input('\\nEnter the radius of the circle to calculate the area of the circle: '))\n",
    "calculated_area = circle_area(r)\n",
    "print('\\nThe Area of the Circle is =>', calculated_area, '\\n')\n",
    "print('The Area of the Circle is =>', round(calculated_area, 2), '\\n')"
   ]
  },
  {
   "cell_type": "markdown",
   "id": "058b1ff6",
   "metadata": {},
   "source": [
    "### Q.5- Write a Python program which accepts the user's first and last name and print them in \n",
    "\n",
    "### reverse order with a space between them."
   ]
  },
  {
   "cell_type": "code",
   "execution_count": 7,
   "id": "29dc51c5",
   "metadata": {},
   "outputs": [
    {
     "name": "stdout",
     "output_type": "stream",
     "text": [
      "\n",
      "Enter your first name: Usman\n",
      "\n",
      "Enter your last name: Tariq\n",
      "\n",
      "namsU qiraT\n"
     ]
    }
   ],
   "source": [
    "first_name = input('\\nEnter your first name: ')\n",
    "last_name = input('\\nEnter your last name: ')\n",
    "\n",
    "print('\\n' + first_name[::-1] + \" \" + last_name[::-1])"
   ]
  },
  {
   "cell_type": "markdown",
   "id": "dcca288c",
   "metadata": {},
   "source": [
    "### Q.6- Write a python program which takes two inputs from user and print them addition."
   ]
  },
  {
   "cell_type": "code",
   "execution_count": 26,
   "id": "174249d1",
   "metadata": {},
   "outputs": [
    {
     "name": "stdout",
     "output_type": "stream",
     "text": [
      "\n",
      "Enter the first input: I am using\n",
      "\n",
      "Enter the second input: Python 3.8.8\n",
      "\n",
      "I am using Python 3.8.8\n"
     ]
    }
   ],
   "source": [
    "first_input = input('\\nEnter the first input: ')\n",
    "second_input = input('\\nEnter the second input: ')\n",
    "\n",
    "if first_input.isnumeric() and second_input.isnumeric():\n",
    "    addition = float(first_input) + float(second_input)\n",
    "else:\n",
    "    addition = str(first_input) + ' ' + str(second_input)\n",
    "\n",
    "print('\\n'+ str(addition))"
   ]
  },
  {
   "cell_type": "code",
   "execution_count": null,
   "id": "d7a4fd83",
   "metadata": {},
   "outputs": [],
   "source": []
  }
 ],
 "metadata": {
  "kernelspec": {
   "display_name": "Python 3",
   "language": "python",
   "name": "python3"
  },
  "language_info": {
   "codemirror_mode": {
    "name": "ipython",
    "version": 3
   },
   "file_extension": ".py",
   "mimetype": "text/x-python",
   "name": "python",
   "nbconvert_exporter": "python",
   "pygments_lexer": "ipython3",
   "version": "3.8.8"
  }
 },
 "nbformat": 4,
 "nbformat_minor": 5
}
